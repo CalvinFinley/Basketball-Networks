{
 "cells": [
  {
   "cell_type": "code",
   "execution_count": 31,
   "metadata": {},
   "outputs": [],
   "source": [
    "import requests\n",
    "from bs4 import BeautifulSoup\n",
    "import pandas as pd\n",
    "\n",
    "r = requests.get(\"https://hoopshype.com/salaries/players/2021-2022/\")\n",
    "soup = BeautifulSoup(r.text, 'html.parser')"
   ]
  },
  {
   "cell_type": "code",
   "execution_count": 33,
   "metadata": {},
   "outputs": [],
   "source": [
    "tbl = soup.find('table',class_='hh-salaries-ranking-table').contents[3]\n",
    "\n",
    "column = tbl.find_all('td',class_='name')\n",
    "names = [name.text.strip() for name in column]\n",
    "\n",
    "salary = [p.next_sibling.next_sibling.text.strip() for p in column]"
   ]
  },
  {
   "cell_type": "code",
   "execution_count": 41,
   "metadata": {},
   "outputs": [],
   "source": [
    "def clean_currency(x):\n",
    "    \"\"\" If the value is a string, then remove currency symbol and delimiters\n",
    "    otherwise, the value is numeric and can be converted\n",
    "    \"\"\"\n",
    "    if isinstance(x, str):\n",
    "        return(x.replace('$', '').replace(',', ''))\n",
    "    return(x)\n",
    "\n",
    "df = pd.DataFrame({'Name':names,'Salary':salary})\n",
    "df['Salary'] = df['Salary'].apply(clean_currency).astype('float')\n",
    "df.to_csv('Salaries21-22.csv')\n"
   ]
  }
 ],
 "metadata": {
  "kernelspec": {
   "display_name": "Python 3",
   "language": "python",
   "name": "python3"
  },
  "language_info": {
   "codemirror_mode": {
    "name": "ipython",
    "version": 3
   },
   "file_extension": ".py",
   "mimetype": "text/x-python",
   "name": "python",
   "nbconvert_exporter": "python",
   "pygments_lexer": "ipython3",
   "version": "3.9.6"
  },
  "orig_nbformat": 4,
  "vscode": {
   "interpreter": {
    "hash": "af12f3811b3d98517c92320a45b3ea2fc607433d60ddfc1a732b8e45799b53c8"
   }
  }
 },
 "nbformat": 4,
 "nbformat_minor": 2
}
